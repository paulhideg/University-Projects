{
 "cells": [
  {
   "cell_type": "code",
   "execution_count": 1,
   "id": "ecb26d79",
   "metadata": {},
   "outputs": [],
   "source": [
    "import torch\n",
    "import torch.nn as nn\n",
    "from collections import OrderedDict"
   ]
  },
  {
   "cell_type": "code",
   "execution_count": 4,
   "id": "25fb42a9",
   "metadata": {},
   "outputs": [],
   "source": [
    "# your code here\n",
    "#model1 = nn.Sequential(OrderedDict([\n",
    "#    ('hidden', nn.\n",
    "#]))\n",
    "\n",
    "model1 = nn.Sequential(OrderedDict([\n",
    "    ('hidden', nn.Linear(2, 2)),\n",
    "    ('sigmoid', nn.Sigmoid()),\n",
    "    ('output', nn.Linear(2, 1)),\n",
    "    ('sigmoid', nn.Sigmoid())\n",
    "]))\n",
    "\n",
    "model2 = nn.Sequential(OrderedDict([\n",
    "    ('hidden', nn.Linear(2, 4)),\n",
    "    ('sigmoid', nn.Sigmoid()),\n",
    "    ('output', nn.Linear(4, 1)),\n",
    "    ('sigmoid', nn.Sigmoid())\n",
    "]))\n",
    "\n",
    "model3 = nn.Sequential(OrderedDict([\n",
    "    ('hidden', nn.Linear(2, 8)),\n",
    "    ('sigmoid', nn.Sigmoid()),\n",
    "    ('output', nn.Linear(8, 1)),\n",
    "    ('sigmoid', nn.Sigmoid())\n",
    "]))\n",
    "\n",
    "# the database contains 0 and 1 because we must add two bits\n",
    "# 3 layers: the input and output layers and one hidden layer\n",
    "# the activation function is the sigmoid function\n",
    "# the loss function is cross entropy with logits function\n",
    "\n",
    "# for MODEL 1:\n",
    "# input layer has 2 neurons, hidden layer has 2 neurons and output layer has 1 neuron\n",
    "\n",
    "# for MODEL 2:\n",
    "# input layer has 2 neurons, hidden layer has 4 neurons and output layer has 1 neuron\n",
    "\n",
    "# for MODEL 3:\n",
    "# input layer has 2 neurons, hidden layer has 8 neurons and output layer has 1 neuron"
   ]
  },
  {
   "cell_type": "code",
   "execution_count": 5,
   "id": "bb3595a8",
   "metadata": {},
   "outputs": [
    {
     "name": "stdout",
     "output_type": "stream",
     "text": [
      "Sequential(\n",
      "  (hidden): Linear(in_features=2, out_features=2, bias=True)\n",
      "  (sigmoid): Sigmoid()\n",
      "  (output): Linear(in_features=2, out_features=1, bias=True)\n",
      ")\n",
      "Sequential(\n",
      "  (hidden): Linear(in_features=2, out_features=4, bias=True)\n",
      "  (sigmoid): Sigmoid()\n",
      "  (output): Linear(in_features=4, out_features=1, bias=True)\n",
      ")\n",
      "Sequential(\n",
      "  (hidden): Linear(in_features=2, out_features=8, bias=True)\n",
      "  (sigmoid): Sigmoid()\n",
      "  (output): Linear(in_features=8, out_features=1, bias=True)\n",
      ")\n"
     ]
    }
   ],
   "source": [
    "print(model1)\n",
    "print(model2)\n",
    "print(model3)"
   ]
  },
  {
   "cell_type": "code",
   "execution_count": 6,
   "id": "99c03fc1",
   "metadata": {},
   "outputs": [
    {
     "name": "stdout",
     "output_type": "stream",
     "text": [
      "tensor([[0., 0.],\n",
      "        [0., 1.],\n",
      "        [1., 0.],\n",
      "        [1., 1.]])\n"
     ]
    }
   ],
   "source": [
    "# your code here\n",
    "#data_in = torch.tensor( ...\n",
    "\n",
    "data_in = torch.tensor([[0, 0], [0, 1], [1, 0], [1, 1]], dtype=torch.float32)\n",
    "\n",
    "print(data_in)"
   ]
  },
  {
   "cell_type": "code",
   "execution_count": 7,
   "id": "73512d83",
   "metadata": {},
   "outputs": [
    {
     "name": "stdout",
     "output_type": "stream",
     "text": [
      "tensor([[0.],\n",
      "        [1.],\n",
      "        [1.],\n",
      "        [0.]])\n"
     ]
    }
   ],
   "source": [
    "# your code here\n",
    "# data_target = torch.tensor( ...\n",
    "\n",
    "data_target = torch.tensor([[0], [1], [1], [0]], dtype=torch.float32)\n",
    "\n",
    "print(data_target)"
   ]
  },
  {
   "cell_type": "code",
   "execution_count": 8,
   "id": "20d5d15d",
   "metadata": {},
   "outputs": [],
   "source": [
    "# your code here\n",
    "# criterion = \n",
    "# optimizer = \n",
    "\n",
    "criterion = nn.BCEWithLogitsLoss()\n",
    "optimizer1 = torch.optim.SGD(model1.parameters(), lr=0.1)\n",
    "optimizer2 = torch.optim.SGD(model2.parameters(), lr=0.1)\n",
    "optimizer3 = torch.optim.SGD(model3.parameters(), lr=0.1)"
   ]
  },
  {
   "cell_type": "code",
   "execution_count": 9,
   "id": "ff67ca53",
   "metadata": {},
   "outputs": [
    {
     "name": "stdout",
     "output_type": "stream",
     "text": [
      "MODEL 1\n",
      "Epoch [100/1000], Loss: 0.6932\n",
      "Epoch [200/1000], Loss: 0.6932\n",
      "Epoch [300/1000], Loss: 0.6932\n",
      "Epoch [400/1000], Loss: 0.6932\n",
      "Epoch [500/1000], Loss: 0.6932\n",
      "Epoch [600/1000], Loss: 0.6932\n",
      "Epoch [700/1000], Loss: 0.6932\n",
      "Epoch [800/1000], Loss: 0.6931\n",
      "Epoch [900/1000], Loss: 0.6931\n",
      "Epoch [1000/1000], Loss: 0.6931\n",
      "MODEL 2\n",
      "Epoch [100/1000], Loss: 0.6932\n",
      "Epoch [200/1000], Loss: 0.6932\n",
      "Epoch [300/1000], Loss: 0.6932\n",
      "Epoch [400/1000], Loss: 0.6932\n",
      "Epoch [500/1000], Loss: 0.6932\n",
      "Epoch [600/1000], Loss: 0.6932\n",
      "Epoch [700/1000], Loss: 0.6931\n",
      "Epoch [800/1000], Loss: 0.6931\n",
      "Epoch [900/1000], Loss: 0.6931\n",
      "Epoch [1000/1000], Loss: 0.6931\n",
      "MODEL 3\n",
      "Epoch [100/1000], Loss: 0.6930\n",
      "Epoch [200/1000], Loss: 0.6930\n",
      "Epoch [300/1000], Loss: 0.6929\n",
      "Epoch [400/1000], Loss: 0.6929\n",
      "Epoch [500/1000], Loss: 0.6928\n",
      "Epoch [600/1000], Loss: 0.6927\n",
      "Epoch [700/1000], Loss: 0.6927\n",
      "Epoch [800/1000], Loss: 0.6926\n",
      "Epoch [900/1000], Loss: 0.6925\n",
      "Epoch [1000/1000], Loss: 0.6924\n"
     ]
    }
   ],
   "source": [
    "# your code here\n",
    "# Train the model\n",
    "\n",
    "# train the model 1 for 1000 epochs\n",
    "num_epochs = 1000\n",
    "\n",
    "print('MODEL 1')\n",
    "for epoch in range(num_epochs):\n",
    "    # Forward pass\n",
    "    output = model1(data_in)\n",
    "    \n",
    "    # Calculate the loss\n",
    "    loss = criterion(output, data_target)\n",
    "    \n",
    "    # Backward pass and optimization\n",
    "    optimizer1.zero_grad()\n",
    "    loss.backward()\n",
    "    optimizer1.step()\n",
    "    \n",
    "    # Print the loss every 100 epochs\n",
    "    if (epoch + 1) % 100 == 0:\n",
    "        print(f\"Epoch [{epoch+1}/{num_epochs}], Loss: {loss.item():.4f}\")\n",
    "        \n",
    "        \n",
    "# train the model 2 for 1000 epochs\n",
    "\n",
    "print('MODEL 2')\n",
    "for epoch in range(num_epochs):\n",
    "    # Forward pass\n",
    "    output = model2(data_in)\n",
    "    \n",
    "    # Calculate the loss\n",
    "    loss = criterion(output, data_target)\n",
    "    \n",
    "    # Backward pass and optimization\n",
    "    optimizer2.zero_grad()\n",
    "    loss.backward()\n",
    "    optimizer2.step()\n",
    "    \n",
    "    # Print the loss every 100 epochs\n",
    "    if (epoch + 1) % 100 == 0:\n",
    "        print(f\"Epoch [{epoch+1}/{num_epochs}], Loss: {loss.item():.4f}\")\n",
    "        \n",
    "        \n",
    "# train the model 3 for 1000 epochs\n",
    "\n",
    "print('MODEL 3')\n",
    "for epoch in range(num_epochs):\n",
    "    # Forward pass\n",
    "    output = model3(data_in)\n",
    "    \n",
    "    # Calculate the loss\n",
    "    loss = criterion(output, data_target)\n",
    "    \n",
    "    # Backward pass and optimization\n",
    "    optimizer3.zero_grad()\n",
    "    loss.backward()\n",
    "    optimizer3.step()\n",
    "    \n",
    "    # Print the loss every 100 epochs\n",
    "    if (epoch + 1) % 100 == 0:\n",
    "        print(f\"Epoch [{epoch+1}/{num_epochs}], Loss: {loss.item():.4f}\")"
   ]
  },
  {
   "cell_type": "code",
   "execution_count": 10,
   "id": "60e871ba",
   "metadata": {},
   "outputs": [
    {
     "name": "stdout",
     "output_type": "stream",
     "text": [
      "Model 1's predictions:\n",
      "tensor([[0.],\n",
      "        [0.],\n",
      "        [0.],\n",
      "        [0.]])\n"
     ]
    },
    {
     "data": {
      "image/png": "[encoded data removed]",
      "text/plain": [
       "<Figure size 640x480 with 1 Axes>"
      ]
     },
     "metadata": {},
     "output_type": "display_data"
    },
    {
     "name": "stdout",
     "output_type": "stream",
     "text": [
      "Model 2's predictions:\n",
      "tensor([[0.],\n",
      "        [0.],\n",
      "        [0.],\n",
      "        [0.]])\n"
     ]
    },
    {
     "data": {
      "image/png": "[encoded data removed]",
      "text/plain": [
       "<Figure size 640x480 with 1 Axes>"
      ]
     },
     "metadata": {},
     "output_type": "display_data"
    },
    {
     "name": "stdout",
     "output_type": "stream",
     "text": [
      "Model 3's predictions:\n",
      "tensor([[0.],\n",
      "        [0.],\n",
      "        [0.],\n",
      "        [0.]])\n"
     ]
    },
    {
     "data": {
      "image/png": "[encoded data removed]",
      "text/plain": [
       "<Figure size 640x480 with 1 Axes>"
      ]
     },
     "metadata": {},
     "output_type": "display_data"
    }
   ],
   "source": [
    "# your code here\n",
    "# visualize the resuts\n",
    "\n",
    "# a heatmap that shows the predicted output for each combination of input bits. The color of each square in the heatmap \n",
    "# corresponds to the output value (0 or 1), with blue indicating 0 and red indicating 1\n",
    "\n",
    "import matplotlib.pyplot as plt\n",
    "\n",
    "# for MODEL 1:\n",
    "\n",
    "output = model1(data_in)\n",
    "\n",
    "# Convert the output probabilities to binary predictions\n",
    "predictions = (output >= 0.5).float()\n",
    "\n",
    "# Print the model's predictions\n",
    "print(\"Model 1's predictions:\")\n",
    "print(predictions)\n",
    "\n",
    "# Visualize the model's predictions against the target output\n",
    "fig, ax = plt.subplots()\n",
    "\n",
    "ax.scatter(data_in[:, 0], data_in[:, 1], c=predictions[:, 0], cmap='coolwarm')\n",
    "ax.set(xlabel='Bit 1', ylabel='Bit 2', title='Model Predictions vs Target Output')\n",
    "ax.grid()\n",
    "\n",
    "plt.show()\n",
    "\n",
    "# for MODEL 2:\n",
    "\n",
    "output = model2(data_in)\n",
    "\n",
    "# Convert the output probabilities to binary predictions\n",
    "predictions = (output >= 0.5).float()\n",
    "\n",
    "# Print the model's predictions\n",
    "print(\"Model 2's predictions:\")\n",
    "print(predictions)\n",
    "\n",
    "# Visualize the model's predictions against the target output\n",
    "fig, ax = plt.subplots()\n",
    "\n",
    "ax.scatter(data_in[:, 0], data_in[:, 1], c=predictions[:, 0], cmap='coolwarm')\n",
    "ax.set(xlabel='Bit 1', ylabel='Bit 2', title='Model Predictions vs Target Output')\n",
    "ax.grid()\n",
    "\n",
    "plt.show()\n",
    "\n",
    "# for MODEL 3:\n",
    "\n",
    "output = model3(data_in)\n",
    "\n",
    "# Convert the output probabilities to binary predictions\n",
    "predictions = (output >= 0.5).float()\n",
    "\n",
    "# Print the model's predictions\n",
    "print(\"Model 3's predictions:\")\n",
    "print(predictions)\n",
    "\n",
    "# Visualize the model's predictions against the target output\n",
    "fig, ax = plt.subplots()\n",
    "\n",
    "ax.scatter(data_in[:, 0], data_in[:, 1], c=predictions[:, 0], cmap='coolwarm')\n",
    "ax.set(xlabel='Bit 1', ylabel='Bit 2', title='Model Predictions vs Target Output')\n",
    "ax.grid()\n",
    "\n",
    "plt.show()"
   ]
  },
  {
   "cell_type": "code",
   "execution_count": 11,
   "id": "10151c6f",
   "metadata": {},
   "outputs": [
    {
     "name": "stdout",
     "output_type": "stream",
     "text": [
      "Accuracy: 50.00%\n",
      "Accuracy: 50.00%\n",
      "Accuracy: 50.00%\n",
      "Model 1 is the best!\n",
      "\n",
      "\n",
      "hidden.weight tensor([[ 0.4860, -0.2246],\n",
      "        [-0.0198, -0.1257]])\n",
      "hidden.bias tensor([ 0.6156, -0.6146])\n",
      "output.weight tensor([[-0.0174, -0.3274]])\n",
      "output.bias tensor([0.1196])\n"
     ]
    }
   ],
   "source": [
    "# your code here\n",
    "# print model wights\n",
    "\n",
    "accuracies = []\n",
    "models = [model1, model2, model3]\n",
    "for model in models:\n",
    "    model.eval()\n",
    "    with torch.no_grad():\n",
    "        outputs = model(data_in)\n",
    "        predicted = (outputs >= 0.5).float()\n",
    "        accuracy = (predicted == data_target).float().mean()\n",
    "        accuracies.append(accuracy)\n",
    "\n",
    "    print(\"Accuracy: {:.2f}%\".format(accuracy.item() * 100))\n",
    "    \n",
    "# Select the best-performing model\n",
    "best_model = models[accuracies.index(max(accuracies))]\n",
    "\n",
    "print('Model ' + str(accuracies.index(max(accuracies)) + 1) + ' is the best!')\n",
    "\n",
    "print('\\n')\n",
    "\n",
    "# Display the weights of each layer in the selected model\n",
    "for name, param in best_model.named_parameters():\n",
    "    if param.requires_grad:\n",
    "        print(name, param.data)"
   ]
  }
 ],
 "metadata": {
  "kernelspec": {
   "display_name": "Python 3 (ipykernel)",
   "language": "python",
   "name": "python3"
  },
  "language_info": {
   "codemirror_mode": {
    "name": "ipython",
    "version": 3
   },
   "file_extension": ".py",
   "mimetype": "text/x-python",
   "name": "python",
   "nbconvert_exporter": "python",
   "pygments_lexer": "ipython3",
   "version": "3.9.13"
  }
 },
 "nbformat": 4,
 "nbformat_minor": 5
}
